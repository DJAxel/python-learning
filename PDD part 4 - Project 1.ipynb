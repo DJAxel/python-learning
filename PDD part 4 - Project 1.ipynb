{
 "cells": [
  {
   "cell_type": "markdown",
   "metadata": {},
   "source": [
    "### Project 1"
   ]
  },
  {
   "cell_type": "markdown",
   "metadata": {},
   "source": [
    "We need to design an dimplement a class that will be used to represent bank accounts.\n",
    "\n",
    "We want the following functionality and characteristics:\n",
    "- accounts are uniquely identified by an **account number** (assume it will just be passed in the initializer)\n",
    "- account holders have a **first** and **last** name\n",
    "- accounts have an associated **preferred time zone offset** (e.g. -7 for MST)\n",
    "- **balances** need to be zero or higher, and should not be directly settable.\n",
    "- but, **deposits** and **withdrawals** can be made (given sufficient funds)\n",
    "    - if a withdrawal is attempted that would result in nagative funds, the transaction should be declined.\n",
    "- a **monthly interest rate** exists and is applicable to all accounts **uniformly**. There should be a method that can be called to calculate the interest on the current balance using the current interest rate, and **add it** to the balance.\n",
    "- each deposit and withdrawal must generate a **confirmation number** composed of:\n",
    "    - the transaction type: `D` for deposit, and `W` for withdrawal, `I` for interest deposit, and `X` for declined (in which case the balance remains unaffected)\n",
    "    - the account number\n",
    "    - the time the transaction was made, using UTC\n",
    "    - an incrementing number (that increments across all accounts and transactions)\n",
    "    - for (extreme!) simplicity assume that the transaction id starts at zero (or whatever number you choose) whenever the program starts\n",
    "    - the confirmation number should be returned from any of the transaction methods (deposit, withdraw, etc)\n",
    "- create a **method** that, given a confirmation number, returns:\n",
    "    - the account number, transaction code (D, W, etc), datetime (UTC format), date time (in whatever timezone is specified in te argument, but more human readable), the transaction ID\n",
    "    - make it so it is a nicely structured object (so can use dotted notation to access these three attributes)\n",
    "    - I purposefully made it so the desired timezone is passed as an argument. Can you figure out why? (hint: does this method require any information from any instance?)"
   ]
  },
  {
   "cell_type": "markdown",
   "metadata": {},
   "source": [
    "For example, we may have an account with:\n",
    "- account number `140568` \n",
    "- preferred time zone offset of -7 (MST) \n",
    "- an existing balance of `100.00`\n",
    "\n",
    "Suppose the last transaction ID in the system was `123`, and a deposit is made for `50.00` on `2019-03-15T14:59:00` (UTC) on that account (or `2019-03-15T07:59:00` in account's preferred time zone offset)\n",
    "\n",
    "The new balance should reflect `150.00` and the confirmation number returned should look something like this:\n",
    "\n",
    "```D-140568-20190315145900-124```\n",
    "\n",
    "We also want a method that given the confirmation number returns an object with attributes:\n",
    "- `result.account_number` --> `140568`\n",
    "- `result.transaction_code` --> `D`\n",
    "- `result.transaction_id` --> `124`\n",
    "- `result.time` --> `2019-03-15 07:59:00 (MST)`\n",
    "- `result.time_utc` --> `2019-03-15T14:59:00`"
   ]
  },
  {
   "cell_type": "markdown",
   "metadata": {},
   "source": [
    "Furthermore, if current interest rate is `0.5%`, and the account's balance is `1000.00`, then the result of calling the `deposit_interest` (or whatever name you choose) method, should result in a new transaction and a new balance of `1050.00`. Calling this method should also return a confirmation number.\n",
    "\n",
    "For simplicty, just use floats, but be aware that for these types of situations you'll probably want to use `Decimal` objects instead of floats."
   ]
  },
  {
   "cell_type": "markdown",
   "metadata": {},
   "source": [
    "There are going to be many ways to design something like this, especially since I have not nailed down all the specific requirements, so you'll have to fill the gaps yourself and decide what other things you may want to implement (like is the account number going to be a mutable property, or \"read-only\" and so on).\n",
    "\n",
    "See how many different ideas you can use from what we covered in the last section. "
   ]
  },
  {
   "cell_type": "markdown",
   "metadata": {},
   "source": [
    "My approach will end up creating two classes: a `TimeZone` class used to store the time zone name and offset definition (in hours and minutes), and a main class called `Account` that will have the following \"public\" interface:\n",
    "- initializer with account number, first name, last name, optional preferred time zone, starting balance (defaults to 0)\n",
    "- a first name property (read/write)\n",
    "- a last name property (read/write)\n",
    "- a full name property (computed, read-only)\n",
    "- a balance property (read-only)\n",
    "- an interest rate property (class level property)\n",
    "- deposit, withdraw, pay_interest methods\n",
    "- parse confirmation code\n",
    "\n",
    "Class will have additional state and methods, but those will be used for implementation."
   ]
  },
  {
   "cell_type": "markdown",
   "metadata": {},
   "source": [
    "You should also remember to test your code! In the solutions I will introduce you to Python's `unittest` package. Even if you skip this project, at least review that video and/or notebook if you are unfamiliar with `unittest`."
   ]
  },
  {
   "cell_type": "code",
   "execution_count": 1,
   "metadata": {},
   "outputs": [],
   "source": [
    "from datetime import datetime, timezone, timedelta\n",
    "\n",
    "class Account:\n",
    "    _MONTHLY_INTEREST = 1.05\n",
    "    _LAST_TRANSACTION_ID = 0\n",
    "    DATE_FORMAT = \"%Y%m%d%H%M%S\"\n",
    "    \n",
    "    def __init__(self, accountnumber: int, first_name: str, last_name: str, tz_offset: int = 0):\n",
    "        self._account_number: int = accountnumber\n",
    "        self._balance: float = 0.0\n",
    "        self._first_name: str = first_name\n",
    "        self._last_name: str = last_name\n",
    "        self._tz_offset: int = tz_offset\n",
    "            \n",
    "            \n",
    "    @property\n",
    "    def balance(self):\n",
    "        return self._balance\n",
    "    \n",
    "    \n",
    "    @property\n",
    "    def full_name(self):\n",
    "        return f\"{self._first_name} {self._last_name}\"\n",
    "    \n",
    "    \n",
    "    @property\n",
    "    def tz_offset(self):\n",
    "        return self._tz_offset\n",
    "        \n",
    "    \n",
    "    def deposit(self, amount: float):\n",
    "        self._balance += amount\n",
    "        return Account.get_confirmation_number('D', self._account_number)\n",
    "        \n",
    "        \n",
    "    def withdraw(self, amount: float):\n",
    "        if self.balance - amount < 0:\n",
    "            return Account.get_confirmation_number('X', self._account_number)\n",
    "        \n",
    "        self._balance -= amount\n",
    "        return Account.get_confirmation_number('W', self._account_number)\n",
    "        \n",
    "        \n",
    "    def deposit_interest(self):\n",
    "        self._balance = round(self._balance * self._MONTHLY_INTEREST, 2)\n",
    "        return Account.get_confirmation_number('I', self._account_number)\n",
    "    \n",
    "    \n",
    "    @staticmethod\n",
    "    def _validate_transaction_type(transaction_type: str):\n",
    "        types = ['D', 'W', 'I', 'X']\n",
    "        if transaction_type not in types:\n",
    "            type_string = \"\"\n",
    "            for value in types:\n",
    "                if len(type_string) != 0:\n",
    "                    type_string += \", \"\n",
    "                type_string += str(value)\n",
    "            raise ValueError(f\"The transaction type must be one of the following: {type_string}.\")\n",
    "        \n",
    "    \n",
    "    @classmethod\n",
    "    def get_confirmation_number(cls, type: str, accountnumber: int):\n",
    "        Account._validate_transaction_type(type)\n",
    "            \n",
    "        timestamp = datetime.now(timezone.utc).strftime(Account.DATE_FORMAT)\n",
    "        \n",
    "        cls._LAST_TRANSACTION_ID += 1\n",
    "        transaction_id = cls._LAST_TRANSACTION_ID\n",
    "        \n",
    "        return f\"{type}-{str(accountnumber)}-{timestamp}-{transaction_id}\"\n",
    "    \n",
    "    \n",
    "    def get_transaction_dict(self, transaction_code: str):\n",
    "        parts = transaction_code.strip().split(\"-\")\n",
    "        if len(parts) != 4:\n",
    "            raise ValueError(\"Invalid transaction code: the code must have a transaction type, account number, timestamp and transaction id separated by a hyphen.\")\n",
    "        \n",
    "        result = {}\n",
    "        \n",
    "        transaction_type = str(parts[0])\n",
    "        Account._validate_transaction_type(transaction_type)\n",
    "        result[\"transaction_type\"] = transaction_type\n",
    "        \n",
    "        try:\n",
    "            account_number = int(parts[1])\n",
    "        except ValueError as e:\n",
    "            raise ValueError(\"Invalid transaction code: the account number is not an integer\")\n",
    "        result[\"account_number\"] = account_number\n",
    "        \n",
    "        \n",
    "        try:\n",
    "            transaction_id = int(parts[3])\n",
    "        except ValueError as e:\n",
    "            raise ValueError(\"Invalid transaction code: the transaction ID is not an integer\")\n",
    "        result[\"transaction_id\"] = transaction_id\n",
    "        \n",
    "        try:\n",
    "            date_object = datetime.strptime(parts[2], Account.DATE_FORMAT).replace(tzinfo=timezone.utc)\n",
    "        except ValueError as e:\n",
    "            raise ValueError(f\"Invalid transaction code: the timestamp is incorrectly formatted, should be {Account.DATE_FORMAT}.\")\n",
    "        result[\"time_utc\"] = date_object.isoformat()\n",
    "        tz = timezone(timedelta(hours=self.tz_offset))\n",
    "        result[\"time\"] = date_object.astimezone(tz).isoformat()\n",
    "        \n",
    "        return result"
   ]
  },
  {
   "cell_type": "code",
   "execution_count": 2,
   "metadata": {},
   "outputs": [
    {
     "data": {
      "text/plain": [
       "(<__main__.Account at 0x7f195052feb0>, 'Axel Kohler', 0.0)"
      ]
     },
     "execution_count": 2,
     "metadata": {},
     "output_type": "execute_result"
    }
   ],
   "source": [
    "a = Account(128768, \"Axel\", \"Kohler\", +2)\n",
    "a, a.full_name, a.balance"
   ]
  },
  {
   "cell_type": "code",
   "execution_count": 3,
   "metadata": {},
   "outputs": [
    {
     "data": {
      "text/plain": [
       "<__main__.Account at 0x7f19504f8430>"
      ]
     },
     "execution_count": 3,
     "metadata": {},
     "output_type": "execute_result"
    }
   ],
   "source": [
    "b = Account(61278, \"Janine\", \"Abbring\", 5)\n",
    "b"
   ]
  },
  {
   "cell_type": "code",
   "execution_count": 4,
   "metadata": {},
   "outputs": [
    {
     "data": {
      "text/plain": [
       "0.0"
      ]
     },
     "execution_count": 4,
     "metadata": {},
     "output_type": "execute_result"
    }
   ],
   "source": [
    "a.balance"
   ]
  },
  {
   "cell_type": "code",
   "execution_count": 5,
   "metadata": {},
   "outputs": [],
   "source": [
    "t1 = a.deposit(3000)"
   ]
  },
  {
   "cell_type": "code",
   "execution_count": 6,
   "metadata": {},
   "outputs": [],
   "source": [
    "t2 = a.withdraw(50)"
   ]
  },
  {
   "cell_type": "code",
   "execution_count": 7,
   "metadata": {},
   "outputs": [
    {
     "data": {
      "text/plain": [
       "2950.0"
      ]
     },
     "execution_count": 7,
     "metadata": {},
     "output_type": "execute_result"
    }
   ],
   "source": [
    "a._balance"
   ]
  },
  {
   "cell_type": "code",
   "execution_count": 8,
   "metadata": {},
   "outputs": [
    {
     "data": {
      "text/plain": [
       "'W-128768-20230718085311-3'"
      ]
     },
     "execution_count": 8,
     "metadata": {},
     "output_type": "execute_result"
    }
   ],
   "source": [
    "a.withdraw(2950)"
   ]
  },
  {
   "cell_type": "code",
   "execution_count": 9,
   "metadata": {},
   "outputs": [
    {
     "data": {
      "text/plain": [
       "0.0"
      ]
     },
     "execution_count": 9,
     "metadata": {},
     "output_type": "execute_result"
    }
   ],
   "source": [
    "a._balance"
   ]
  },
  {
   "cell_type": "code",
   "execution_count": 10,
   "metadata": {},
   "outputs": [
    {
     "data": {
      "text/plain": [
       "'X-128768-20230718085311-4'"
      ]
     },
     "execution_count": 10,
     "metadata": {},
     "output_type": "execute_result"
    }
   ],
   "source": [
    "a.withdraw(1)"
   ]
  },
  {
   "cell_type": "code",
   "execution_count": 11,
   "metadata": {},
   "outputs": [
    {
     "data": {
      "text/plain": [
       "0.0"
      ]
     },
     "execution_count": 11,
     "metadata": {},
     "output_type": "execute_result"
    }
   ],
   "source": [
    "a._balance"
   ]
  },
  {
   "cell_type": "code",
   "execution_count": 12,
   "metadata": {},
   "outputs": [
    {
     "data": {
      "text/plain": [
       "'D-128768-20230718085311-5'"
      ]
     },
     "execution_count": 12,
     "metadata": {},
     "output_type": "execute_result"
    }
   ],
   "source": [
    "a.deposit(100)"
   ]
  },
  {
   "cell_type": "code",
   "execution_count": 13,
   "metadata": {},
   "outputs": [
    {
     "data": {
      "text/plain": [
       "100.0"
      ]
     },
     "execution_count": 13,
     "metadata": {},
     "output_type": "execute_result"
    }
   ],
   "source": [
    "a._balance"
   ]
  },
  {
   "cell_type": "code",
   "execution_count": 14,
   "metadata": {},
   "outputs": [],
   "source": [
    "t3 = a.withdraw(150)"
   ]
  },
  {
   "cell_type": "code",
   "execution_count": 15,
   "metadata": {},
   "outputs": [
    {
     "data": {
      "text/plain": [
       "100.0"
      ]
     },
     "execution_count": 15,
     "metadata": {},
     "output_type": "execute_result"
    }
   ],
   "source": [
    "a._balance"
   ]
  },
  {
   "cell_type": "code",
   "execution_count": 16,
   "metadata": {},
   "outputs": [],
   "source": [
    "t4 = a.deposit_interest()"
   ]
  },
  {
   "cell_type": "code",
   "execution_count": 17,
   "metadata": {},
   "outputs": [
    {
     "data": {
      "text/plain": [
       "105.0"
      ]
     },
     "execution_count": 17,
     "metadata": {},
     "output_type": "execute_result"
    }
   ],
   "source": [
    "a._balance"
   ]
  },
  {
   "cell_type": "code",
   "execution_count": 18,
   "metadata": {},
   "outputs": [],
   "source": [
    "t5 = b.deposit(1200)"
   ]
  },
  {
   "cell_type": "code",
   "execution_count": 19,
   "metadata": {},
   "outputs": [
    {
     "data": {
      "text/plain": [
       "{'transaction_type': 'D',\n",
       " 'account_number': 128768,\n",
       " 'transaction_id': 1,\n",
       " 'time_utc': '2023-07-18T08:53:11+00:00',\n",
       " 'time': '2023-07-18T10:53:11+02:00'}"
      ]
     },
     "execution_count": 19,
     "metadata": {},
     "output_type": "execute_result"
    }
   ],
   "source": [
    "a.get_transaction_dict(t1)"
   ]
  },
  {
   "cell_type": "code",
   "execution_count": 20,
   "metadata": {},
   "outputs": [
    {
     "data": {
      "text/plain": [
       "{'transaction_type': 'W',\n",
       " 'account_number': 128768,\n",
       " 'transaction_id': 2,\n",
       " 'time_utc': '2023-07-18T08:53:11+00:00',\n",
       " 'time': '2023-07-18T10:53:11+02:00'}"
      ]
     },
     "execution_count": 20,
     "metadata": {},
     "output_type": "execute_result"
    }
   ],
   "source": [
    "a.get_transaction_dict(t2)"
   ]
  },
  {
   "cell_type": "code",
   "execution_count": 21,
   "metadata": {},
   "outputs": [
    {
     "data": {
      "text/plain": [
       "{'transaction_type': 'X',\n",
       " 'account_number': 128768,\n",
       " 'transaction_id': 6,\n",
       " 'time_utc': '2023-07-18T08:53:12+00:00',\n",
       " 'time': '2023-07-18T10:53:12+02:00'}"
      ]
     },
     "execution_count": 21,
     "metadata": {},
     "output_type": "execute_result"
    }
   ],
   "source": [
    "a.get_transaction_dict(t3)"
   ]
  },
  {
   "cell_type": "code",
   "execution_count": 22,
   "metadata": {},
   "outputs": [
    {
     "data": {
      "text/plain": [
       "{'transaction_type': 'I',\n",
       " 'account_number': 128768,\n",
       " 'transaction_id': 7,\n",
       " 'time_utc': '2023-07-18T08:53:12+00:00',\n",
       " 'time': '2023-07-18T10:53:12+02:00'}"
      ]
     },
     "execution_count": 22,
     "metadata": {},
     "output_type": "execute_result"
    }
   ],
   "source": [
    "a.get_transaction_dict(t4)"
   ]
  },
  {
   "cell_type": "code",
   "execution_count": 23,
   "metadata": {},
   "outputs": [
    {
     "data": {
      "text/plain": [
       "{'transaction_type': 'D',\n",
       " 'account_number': 61278,\n",
       " 'transaction_id': 8,\n",
       " 'time_utc': '2023-07-18T08:53:12+00:00',\n",
       " 'time': '2023-07-18T13:53:12+05:00'}"
      ]
     },
     "execution_count": 23,
     "metadata": {},
     "output_type": "execute_result"
    }
   ],
   "source": [
    "b.get_transaction_dict(t5)"
   ]
  }
 ],
 "metadata": {
  "kernelspec": {
   "display_name": "Python 3",
   "language": "python",
   "name": "python3"
  },
  "language_info": {
   "codemirror_mode": {
    "name": "ipython",
    "version": 3
   },
   "file_extension": ".py",
   "mimetype": "text/x-python",
   "name": "python",
   "nbconvert_exporter": "python",
   "pygments_lexer": "ipython3",
   "version": "3.8.10"
  }
 },
 "nbformat": 4,
 "nbformat_minor": 2
}
